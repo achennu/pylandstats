{
 "cells": [
  {
   "cell_type": "code",
   "execution_count": 1,
   "metadata": {
    "autoscroll": false,
    "collapsed": false,
    "ein.hycell": false,
    "ein.tags": "worksheet-0",
    "slideshow": {
     "slide_type": "-"
    }
   },
   "outputs": [],
   "source": [
    "%load_ext autoreload\n",
    "%autoreload 2"
   ]
  },
  {
   "cell_type": "code",
   "execution_count": 2,
   "metadata": {
    "autoscroll": false,
    "collapsed": false,
    "ein.hycell": false,
    "ein.tags": "worksheet-0",
    "slideshow": {
     "slide_type": "-"
    }
   },
   "outputs": [],
   "source": [
    "import swisslandstats as sls"
   ]
  },
  {
   "cell_type": "code",
   "execution_count": 3,
   "metadata": {
    "autoscroll": false,
    "collapsed": false,
    "ein.hycell": false,
    "ein.tags": "worksheet-0",
    "slideshow": {
     "slide_type": "-"
    }
   },
   "outputs": [],
   "source": [
    "ldf = sls.read_csv('../research_notebooks/spatiotemporal_patterns/data/AREA_NOAS04_72_161114.csv')\n",
    "vaud_ldf = ldf.clip_by_nominatim('Vaud, Switzerland')"
   ]
  },
  {
   "cell_type": "code",
   "execution_count": 6,
   "metadata": {
    "autoscroll": false,
    "collapsed": false,
    "ein.hycell": false,
    "ein.tags": "worksheet-0",
    "slideshow": {
     "slide_type": "-"
    }
   },
   "outputs": [],
   "source": [
    "import numpy as np\n",
    "from scipy import ndimage\n",
    "from pylandstats.landscape import Landscape"
   ]
  },
  {
   "cell_type": "code",
   "execution_count": 4,
   "metadata": {
    "autoscroll": false,
    "collapsed": false,
    "ein.hycell": false,
    "ein.tags": "worksheet-0",
    "slideshow": {
     "slide_type": "-"
    }
   },
   "outputs": [],
   "source": [
    "landscape_arr = vaud_ldf.to_ndarray('AS85R_4')"
   ]
  },
  {
   "cell_type": "code",
   "execution_count": 8,
   "metadata": {
    "autoscroll": false,
    "collapsed": false,
    "ein.hycell": false,
    "ein.tags": "worksheet-0",
    "slideshow": {
     "slide_type": "-"
    }
   },
   "outputs": [],
   "source": [
    "ls = Landscape(landscape_arr, res=vaud_ldf.res)"
   ]
  },
  {
   "cell_type": "code",
   "execution_count": 12,
   "metadata": {
    "autoscroll": false,
    "collapsed": false,
    "ein.hycell": false,
    "ein.tags": "worksheet-0",
    "slideshow": {
     "slide_type": "-"
    }
   },
   "outputs": [],
   "source": [
    "urban_class_val = 1\n",
    "urban_arr = ls._get_label_arr(urban_class_val)"
   ]
  },
  {
   "cell_type": "code",
   "execution_count": null,
   "metadata": {
    "autoscroll": false,
    "collapsed": false,
    "ein.hycell": false,
    "ein.tags": "worksheet-0",
    "slideshow": {
     "slide_type": "-"
    }
   },
   "outputs": [],
   "source": [
    "# import rasterio\n",
    "\n",
    "# dtype = rasterio.uint8\n",
    "\n",
    "# with rasterio.open('example.tif', 'w', driver='GTiff', height=urban_arr.shape[0],\n",
    "#                    width=urban_arr.shape[1], count=1, dtype=str(dtype),\n",
    "#                    nodata=0, crs=vaud_ldf.crs,\n",
    "#                    transform=vaud_ldf.transform) as raster:\n",
    "#     raster.write(urban_arr.astype(dtype), 1)"
   ]
  },
  {
   "cell_type": "markdown",
   "metadata": {
    "ein.tags": "worksheet-0",
    "slideshow": {
     "slide_type": "-"
    }
   },
   "source": [
    "## Patch-level metrics"
   ]
  },
  {
   "cell_type": "code",
   "execution_count": 20,
   "metadata": {
    "autoscroll": false,
    "collapsed": false,
    "ein.hycell": false,
    "ein.tags": "worksheet-0",
    "slideshow": {
     "slide_type": "-"
    }
   },
   "outputs": [],
   "source": [
    "urban_patch_areas = ls._compute_patch_scalars(urban_arr, ls.area)"
   ]
  },
  {
   "cell_type": "code",
   "execution_count": 50,
   "metadata": {
    "autoscroll": false,
    "collapsed": false,
    "ein.hycell": false,
    "ein.tags": "worksheet-0",
    "slideshow": {
     "slide_type": "-"
    }
   },
   "outputs": [
    {
     "name": "stdout",
     "output_type": "stream",
     "text": [
      "ed-f 16.7989809361559\n",
      "te-f 5393800\n",
      "ed-t 18.569261770467705\n",
      "te-t 5962200.0\n"
     ]
    }
   ],
   "source": [
    "# print('area', ls.area_mn(urban_class_val))\n",
    "# print('lsi', ls.landscape_shape_index(urban_class_val))\n",
    "print('ed-f', ls.edge_density(urban_class_val, count_boundary=False))\n",
    "print('te-f', ls.total_edge(urban_class_val, count_boundary=False))\n",
    "print('ed-t', ls.edge_density(urban_class_val, count_boundary=True))\n",
    "print('te-t', ls.total_edge(urban_class_val, count_boundary=True))\n",
    "# %time ls.edge_density(urban_class_val)"
   ]
  },
  {
   "cell_type": "code",
   "execution_count": 13,
   "metadata": {
    "autoscroll": false,
    "collapsed": false,
    "ein.hycell": false,
    "ein.tags": "worksheet-0",
    "slideshow": {
     "slide_type": "-"
    }
   },
   "outputs": [],
   "source": [
    "# landscape_arr = vaud_ldf.to_ndarray('AS09_4')\n",
    "# res = vaud_ldf.res\n",
    "\n",
    "landscape_arr = np.load('tests/input_data/ls.npy')\n",
    "res = (1, 1)"
   ]
  },
  {
   "cell_type": "code",
   "execution_count": 45,
   "metadata": {
    "autoscroll": false,
    "collapsed": false,
    "ein.hycell": false,
    "ein.tags": "worksheet-0",
    "slideshow": {
     "slide_type": "-"
    }
   },
   "outputs": [],
   "source": [
    "ls = Landscape(landscape_arr, res=res)"
   ]
  },
  {
   "cell_type": "code",
   "execution_count": 56,
   "metadata": {
    "autoscroll": false,
    "collapsed": false,
    "ein.hycell": false,
    "ein.tags": "worksheet-0",
    "slideshow": {
     "slide_type": "-"
    }
   },
   "outputs": [
    {
     "data": {
      "text/plain": [
       "array([ 148.,    8.,   10.,   14.,   10.,   26.,   30.,   14.,   14.,\n",
       "         26.,    8.,   22.,   12.,   68.,   74.,   76.,   42.,   60.,\n",
       "         30.,   16.,    6.,  450.,    8.,   12.,   26.,   30.,   16.,\n",
       "         24.,   54.,   46.,   40.,   46.,   54.,   30.,   14.,   90.,\n",
       "         38.,  194., 1744.,    8.,   34.,   30.,   70.,   16.,   34.,\n",
       "         16.,   72.,   52.,   10.,   10.,   22.,   16.,   80.,   14.,\n",
       "         14.,  114.,  452.,    6.,  562.,   40.,   14.,   16.,   52.,\n",
       "         14.,   58.,   40.,   24.,   68.,   20.,   10.,   54.,  112.])"
      ]
     },
     "execution_count": 56,
     "metadata": {},
     "output_type": "execute_result"
    }
   ],
   "source": [
    "np.concatenate([ls._get_patch_perimeters(class_val) for class_val in ls.classes])"
   ]
  },
  {
   "cell_type": "code",
   "execution_count": 69,
   "metadata": {
    "autoscroll": false,
    "collapsed": false,
    "ein.hycell": false,
    "ein.tags": "worksheet-0",
    "slideshow": {
     "slide_type": "-"
    }
   },
   "outputs": [],
   "source": [
    "total_edge = np.sum(np.concatenate([ls._get_patch_perimeters(class_val) for class_val in ls.classes]))"
   ]
  },
  {
   "cell_type": "code",
   "execution_count": 70,
   "metadata": {
    "autoscroll": false,
    "collapsed": false,
    "ein.hycell": false,
    "ein.tags": "worksheet-0",
    "slideshow": {
     "slide_type": "-"
    }
   },
   "outputs": [
    {
     "data": {
      "text/plain": [
       "5784.0"
      ]
     },
     "execution_count": 70,
     "metadata": {},
     "output_type": "execute_result"
    }
   ],
   "source": [
    "total_edge"
   ]
  },
  {
   "cell_type": "code",
   "execution_count": 71,
   "metadata": {
    "autoscroll": false,
    "collapsed": false,
    "ein.hycell": false,
    "ein.tags": "worksheet-0",
    "slideshow": {
     "slide_type": "-"
    }
   },
   "outputs": [],
   "source": [
    "total_edge = np.sum(ls._get_patch_perimeters(class_val))"
   ]
  },
  {
   "cell_type": "code",
   "execution_count": 72,
   "metadata": {
    "autoscroll": false,
    "collapsed": false,
    "ein.hycell": false,
    "ein.tags": "worksheet-0",
    "slideshow": {
     "slide_type": "-"
    }
   },
   "outputs": [
    {
     "data": {
      "text/plain": [
       "1656.0"
      ]
     },
     "execution_count": 72,
     "metadata": {},
     "output_type": "execute_result"
    }
   ],
   "source": [
    "total_edge"
   ]
  },
  {
   "cell_type": "code",
   "execution_count": 61,
   "metadata": {
    "autoscroll": false,
    "collapsed": false,
    "ein.hycell": false,
    "ein.tags": "worksheet-0",
    "slideshow": {
     "slide_type": "-"
    }
   },
   "outputs": [],
   "source": [
    "class_arr = ls._get_class_arr(class_val)\n",
    "total_edge = ls._compute_arr_perimeter(class_arr, count_boundary=False)"
   ]
  },
  {
   "cell_type": "code",
   "execution_count": 62,
   "metadata": {
    "autoscroll": false,
    "collapsed": false,
    "ein.hycell": false,
    "ein.tags": "worksheet-0",
    "slideshow": {
     "slide_type": "-"
    }
   },
   "outputs": [
    {
     "data": {
      "text/plain": [
       "1486"
      ]
     },
     "execution_count": 62,
     "metadata": {},
     "output_type": "execute_result"
    }
   ],
   "source": [
    "total_edge"
   ]
  },
  {
   "cell_type": "code",
   "execution_count": 67,
   "metadata": {
    "autoscroll": false,
    "collapsed": false,
    "ein.hycell": false,
    "ein.tags": "worksheet-0",
    "slideshow": {
     "slide_type": "-"
    }
   },
   "outputs": [
    {
     "data": {
      "text/plain": [
       "2807"
      ]
     },
     "execution_count": 67,
     "metadata": {},
     "output_type": "execute_result"
    }
   ],
   "source": [
    "ls._compute_arr_perimeter(ls.landscape_arr, count_boundary=False)"
   ]
  },
  {
   "cell_type": "code",
   "execution_count": 68,
   "metadata": {
    "autoscroll": false,
    "collapsed": false,
    "ein.hycell": false,
    "ein.tags": "worksheet-0",
    "slideshow": {
     "slide_type": "-"
    }
   },
   "outputs": [
    {
     "data": {
      "text/plain": [
       "2871"
      ]
     },
     "execution_count": 68,
     "metadata": {},
     "output_type": "execute_result"
    }
   ],
   "source": [
    "ls._compute_arr_perimeter(ls.landscape_arr, count_boundary=True)"
   ]
  },
  {
   "cell_type": "code",
   "execution_count": null,
   "metadata": {
    "autoscroll": false,
    "collapsed": false,
    "ein.hycell": false,
    "ein.tags": "worksheet-0",
    "slideshow": {
     "slide_type": "-"
    }
   },
   "outputs": [],
   "source": [
    "ls._"
   ]
  },
  {
   "cell_type": "code",
   "execution_count": 19,
   "metadata": {
    "autoscroll": false,
    "collapsed": false,
    "ein.hycell": false,
    "ein.tags": "worksheet-0",
    "slideshow": {
     "slide_type": "-"
    }
   },
   "outputs": [
    {
     "name": "stdout",
     "output_type": "stream",
     "text": [
      "156.0\n",
      "152.0\n",
      "1212.0\n",
      "30.0\n",
      "142.0\n",
      "194.0\n",
      "2242.0\n",
      "1656.0\n"
     ]
    }
   ],
   "source": [
    "for class_val in ls.classes:\n",
    "    print(ls.total_edge(class_val))"
   ]
  },
  {
   "cell_type": "code",
   "execution_count": null,
   "metadata": {
    "autoscroll": false,
    "collapsed": false,
    "ein.hycell": false,
    "ein.tags": "worksheet-0",
    "slideshow": {
     "slide_type": "-"
    }
   },
   "outputs": [],
   "source": [
    "# class_arr = np.array([[0, 1, 0, 0, 0, 0, 0],\n",
    "#                       [0, 1, 1, 0, 1, 1, 0],\n",
    "#                       [0, 1, 0, 0, 0, 0, 0]])\n",
    "# label_arr, num_patches = ndimage.label(\n",
    "#     class_arr, ndimage.generate_binary_structure(2, 2))"
   ]
  },
  {
   "cell_type": "code",
   "execution_count": 6,
   "metadata": {
    "autoscroll": false,
    "collapsed": false,
    "ein.hycell": false,
    "ein.tags": "worksheet-0",
    "slideshow": {
     "slide_type": "-"
    }
   },
   "outputs": [
    {
     "name": "stdout",
     "output_type": "stream",
     "text": [
      "825 ms ± 1.02 ms per loop (mean ± std. dev. of 7 runs, 1 loop each)\n"
     ]
    }
   ],
   "source": [
    "%%timeit\n",
    "\n",
    "for class_val in ls.classes:\n",
    "    class_arr = ls.get_class_arr(class_val)\n",
    "    label_arr = ls.get_label_arr(class_val)\n",
    "\n",
    "    patch_perimeters = []\n",
    "    for i, patch_slice in enumerate(ndimage.find_objects(label_arr), start=1):\n",
    "        patch_arr = label_arr[patch_slice] == i\n",
    "        patch_perimeter = ls._compute_arr_perimeter(patch_arr)\n",
    "        patch_perimeters.append(patch_perimeter)"
   ]
  },
  {
   "cell_type": "code",
   "execution_count": 7,
   "metadata": {
    "autoscroll": false,
    "collapsed": false,
    "ein.hycell": false,
    "ein.tags": "worksheet-0",
    "slideshow": {
     "slide_type": "-"
    }
   },
   "outputs": [
    {
     "name": "stdout",
     "output_type": "stream",
     "text": [
      "794 ms ± 7.54 ms per loop (mean ± std. dev. of 7 runs, 1 loop each)\n"
     ]
    }
   ],
   "source": [
    "%%timeit\n",
    "\n",
    "for class_val in ls.classes:\n",
    "    class_arr = ls.get_class_arr(class_val)\n",
    "    label_arr = ls.get_label_arr(class_val)\n",
    "\n",
    "    patch_perimeters = []\n",
    "    for patch_slice in ndimage.find_objects(label_arr):\n",
    "        patch_arr = label_arr[patch_slice]\n",
    "        patch_perimeter = ls._compute_arr_perimeter(patch_arr)\n",
    "        patch_perimeters.append(patch_perimeter)"
   ]
  },
  {
   "cell_type": "code",
   "execution_count": 8,
   "metadata": {
    "autoscroll": false,
    "collapsed": false,
    "ein.hycell": false,
    "ein.tags": "worksheet-0",
    "slideshow": {
     "slide_type": "-"
    }
   },
   "outputs": [
    {
     "name": "stdout",
     "output_type": "stream",
     "text": [
      "38.1 s ± 101 ms per loop (mean ± std. dev. of 7 runs, 1 loop each)\n"
     ]
    }
   ],
   "source": [
    "%%timeit\n",
    "\n",
    "for class_val in ls.classes:\n",
    "    class_arr = ls.get_class_arr(class_val)\n",
    "    label_arr = ls.get_label_arr(class_val)\n",
    "    num_patches = ls.get_num_patches(class_val)\n",
    "\n",
    "    patch_perimeters = []\n",
    "    for i in range(1, num_patches + 1):\n",
    "        patch_arr = label_arr == i\n",
    "        patch_perimeter = ls._compute_arr_perimeter(patch_arr)\n",
    "        patch_perimeters.append(patch_perimeter)"
   ]
  },
  {
   "cell_type": "code",
   "execution_count": 67,
   "metadata": {
    "autoscroll": false,
    "collapsed": false,
    "ein.hycell": false,
    "ein.tags": "worksheet-0",
    "slideshow": {
     "slide_type": "-"
    }
   },
   "outputs": [],
   "source": [
    "import matplotlib.pyplot as plt"
   ]
  },
  {
   "cell_type": "code",
   "execution_count": 78,
   "metadata": {
    "autoscroll": false,
    "collapsed": false,
    "ein.hycell": false,
    "ein.tags": "worksheet-0",
    "slideshow": {
     "slide_type": "-"
    }
   },
   "outputs": [],
   "source": [
    "class_val = ls.classes[1]\n",
    "class_arr = ls.get_class_arr(class_val)\n",
    "label_arr = ls.get_label_arr(class_val)"
   ]
  },
  {
   "cell_type": "code",
   "execution_count": 79,
   "metadata": {
    "autoscroll": false,
    "collapsed": false,
    "ein.hycell": false,
    "ein.tags": "worksheet-0",
    "slideshow": {
     "slide_type": "-"
    }
   },
   "outputs": [
    {
     "data": {
      "text/plain": [
       "<matplotlib.image.AxesImage at 0x7f181e3bf828>"
      ]
     },
     "execution_count": 79,
     "metadata": {},
     "output_type": "execute_result"
    },
    {
     "data": {
      "image/png": "[encoded data removed]",
      "text/plain": [
       "<Figure size 432x288 with 1 Axes>"
      ]
     },
     "metadata": {},
     "output_type": "display_data"
    }
   ],
   "source": [
    "plt.imshow(class_arr)"
   ]
  },
  {
   "cell_type": "code",
   "execution_count": 80,
   "metadata": {
    "autoscroll": false,
    "collapsed": false,
    "ein.hycell": false,
    "ein.tags": "worksheet-0",
    "slideshow": {
     "slide_type": "-"
    }
   },
   "outputs": [
    {
     "name": "stdout",
     "output_type": "stream",
     "text": [
      "[[1 1 1 1 1 1 1 1 0 0]\n",
      " [1 1 1 1 1 1 1 1 0 0]\n",
      " [1 1 1 1 1 1 1 1 0 0]\n",
      " [1 1 1 1 1 1 1 1 0 0]\n",
      " [1 1 1 1 1 1 1 1 0 0]\n",
      " [1 1 1 1 1 1 1 1 0 0]\n",
      " [1 1 1 1 1 1 1 1 1 1]\n",
      " [1 1 1 1 1 1 1 1 1 1]\n",
      " [1 1 1 1 1 1 1 1 1 1]\n",
      " [1 1 1 1 1 1 1 1 1 1]\n",
      " [1 1 1 1 1 1 1 1 1 1]\n",
      " [0 0 0 0 0 1 1 1 0 0]\n",
      " [0 0 0 0 0 1 1 1 0 0]\n",
      " [0 0 0 0 0 1 1 1 0 0]\n",
      " [0 0 0 0 0 1 1 1 0 0]\n",
      " [0 0 0 0 0 1 1 1 0 0]]\n",
      "[[2 2 2 2 2 2 2 2 2 2]\n",
      " [0 0 2 2 2 2 2 2 2 2]\n",
      " [0 0 2 2 2 2 2 2 2 2]]\n",
      "[[3 3 3 0 0]\n",
      " [3 3 3 0 0]\n",
      " [3 3 3 0 0]\n",
      " [0 0 0 3 3]\n",
      " [0 0 0 3 3]\n",
      " [0 0 0 3 3]\n",
      " [0 0 0 3 3]\n",
      " [0 0 0 3 3]]\n",
      "[[0 0 0 0 0 0 0 0 3 3 0 0 0 0 0 0 0 0 0 0 0 0 0 4]\n",
      " [0 0 0 0 0 0 0 0 3 3 0 0 0 0 0 0 0 0 0 0 0 0 0 4]\n",
      " [0 0 0 0 0 0 0 0 3 3 0 0 0 0 0 0 0 0 0 0 0 0 0 4]\n",
      " [0 0 0 0 0 0 0 0 3 3 0 0 0 0 0 0 0 0 0 0 0 0 0 4]\n",
      " [0 0 0 0 0 0 0 0 3 3 0 0 0 0 0 0 0 0 0 0 0 0 0 4]\n",
      " [0 0 0 0 0 0 0 0 0 0 0 0 0 0 0 0 0 0 0 0 4 4 4 4]\n",
      " [0 0 0 0 0 0 0 0 0 0 0 0 0 0 0 0 0 0 0 0 4 4 4 4]\n",
      " [0 0 0 4 4 4 4 4 0 0 0 0 0 0 0 0 0 0 4 4 4 4 4 4]\n",
      " [0 0 0 4 4 4 4 4 0 0 0 0 0 0 0 0 0 0 4 4 4 4 4 4]\n",
      " [0 0 0 4 4 4 4 4 0 0 0 0 0 0 0 0 0 0 4 4 4 4 4 4]\n",
      " [0 0 0 4 4 4 4 4 0 0 0 0 0 0 0 0 0 0 4 4 4 4 4 4]\n",
      " [0 0 0 4 4 4 4 4 0 0 0 0 0 0 0 0 0 0 4 4 4 4 4 4]\n",
      " [0 0 0 0 0 0 0 0 4 4 4 4 4 4 4 4 4 4 4 4 0 0 0 0]\n",
      " [0 0 0 0 0 0 0 0 4 4 4 4 4 4 4 4 4 4 4 4 0 0 0 0]\n",
      " [0 0 0 0 0 0 0 0 4 4 4 4 4 4 4 4 4 4 4 4 0 0 0 0]\n",
      " [0 0 0 0 0 4 4 4 4 4 0 0 0 0 0 4 4 4 4 4 0 0 0 0]\n",
      " [0 0 0 0 0 4 4 4 4 4 0 0 0 0 0 4 4 4 4 4 0 0 0 0]\n",
      " [0 0 0 0 0 4 4 4 4 4 0 0 0 0 0 4 4 4 0 0 0 0 0 0]\n",
      " [0 0 0 0 0 4 4 4 4 4 0 0 0 0 0 4 4 4 0 0 0 0 0 0]\n",
      " [0 0 0 0 0 4 4 4 4 4 0 0 0 0 0 4 4 4 0 0 0 0 0 0]\n",
      " [4 4 4 4 4 4 4 4 0 0 0 0 0 0 0 4 4 4 0 0 0 0 0 0]\n",
      " [4 4 4 4 4 4 4 4 0 0 0 0 0 0 0 4 4 4 0 0 0 0 0 0]\n",
      " [4 4 4 4 4 4 4 4 0 0 0 0 0 0 0 4 4 4 0 0 0 0 0 0]\n",
      " [4 4 4 4 4 4 4 4 0 0 0 0 0 0 0 4 4 4 0 0 0 0 0 0]\n",
      " [4 4 4 4 4 4 4 4 0 0 0 0 0 0 0 4 4 4 0 0 0 0 0 0]\n",
      " [4 4 4 4 4 4 4 4 4 4 0 0 0 0 0 4 4 4 4 4 4 4 4 4]\n",
      " [4 4 4 4 4 4 4 4 4 4 0 0 0 0 0 4 4 4 4 4 4 4 4 4]\n",
      " [0 0 0 0 0 4 4 4 4 4 4 4 4 0 0 4 4 4 4 4 4 4 4 4]\n",
      " [0 0 0 0 0 4 4 4 4 4 4 4 4 0 0 4 4 4 4 4 4 4 4 4]\n",
      " [0 0 0 0 0 4 4 4 4 4 4 4 4 0 0 4 4 4 4 4 4 4 4 4]\n",
      " [0 0 0 0 0 4 4 4 4 4 4 4 4 0 0 4 4 4 4 4 4 4 4 4]\n",
      " [0 0 0 0 0 4 4 4 4 4 4 4 4 0 0 4 4 4 4 4 4 4 4 4]\n",
      " [0 0 0 0 0 4 4 4 4 4 4 4 4 0 0 4 4 4 4 4 4 4 4 4]\n",
      " [0 0 0 0 0 0 0 0 0 0 0 0 0 0 0 0 0 0 4 4 0 0 0 0]\n",
      " [0 0 0 0 0 0 0 0 0 0 0 0 0 0 0 0 0 0 4 4 0 0 0 0]]\n",
      "[[5 5 5]\n",
      " [5 5 5]\n",
      " [5 5 5]\n",
      " [5 5 5]\n",
      " [5 5 5]]\n",
      "[[6 6 0 0 0 0 0 0 0 0]\n",
      " [6 6 0 0 0 0 0 0 0 0]\n",
      " [6 6 0 0 0 0 0 0 0 0]\n",
      " [6 6 6 6 6 0 0 0 0 0]\n",
      " [6 6 6 6 6 0 0 0 0 0]\n",
      " [0 0 6 6 6 6 6 6 6 6]\n",
      " [0 0 6 6 6 6 6 6 6 6]\n",
      " [0 0 6 6 6 6 6 6 6 6]\n",
      " [0 0 6 6 6 6 6 6 6 6]\n",
      " [0 0 6 6 6 6 6 6 6 6]\n",
      " [0 0 0 0 0 0 0 6 6 6]\n",
      " [0 0 0 0 0 0 0 6 6 6]\n",
      " [0 0 0 0 0 0 0 6 6 6]]\n",
      "[[0 0 0 0 0 7 7 7 7 7]\n",
      " [0 0 0 0 0 7 7 7 7 7]\n",
      " [0 0 0 0 0 7 7 7 7 7]\n",
      " [0 0 0 0 0 7 7 7 7 7]\n",
      " [0 0 0 0 0 7 7 7 7 7]\n",
      " [7 7 7 7 7 7 7 7 7 7]\n",
      " [7 7 7 7 7 7 7 7 7 7]\n",
      " [7 7 7 7 7 7 7 7 7 7]\n",
      " [0 0 7 7 7 7 7 7 7 7]\n",
      " [0 0 7 7 7 7 7 7 7 7]]\n"
     ]
    }
   ],
   "source": [
    "class_arr = ls.get_class_arr(class_val)\n",
    "label_arr = ls.get_label_arr(class_val)\n",
    "\n",
    "\n",
    "    "
   ]
  },
  {
   "cell_type": "code",
   "execution_count": null,
   "metadata": {
    "autoscroll": false,
    "collapsed": false,
    "ein.hycell": false,
    "ein.tags": "worksheet-0",
    "slideshow": {
     "slide_type": "-"
    }
   },
   "outputs": [],
   "source": []
  }
 ],
 "metadata": {
  "kernelspec": {
   "display_name": "Python (pylandstats)",
   "name": "pylandstats"
  },
  "name": "Untitled.ipynb"
 },
 "nbformat": 4,
 "nbformat_minor": 2
}
